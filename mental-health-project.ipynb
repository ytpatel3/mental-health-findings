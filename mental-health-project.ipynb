{
 "cells": [
  {
   "cell_type": "markdown",
   "id": "449df084-e971-4155-a6e5-0738918f57d7",
   "metadata": {},
   "source": [
    "## Yash Patel\n",
    "## 4/9/24\n",
    "## CMP262 Final Project\n",
    "\n",
    "#### Dataset: https://www.kaggle.com/datasets/bhavikjikadara/mental-health-dataset?resource=download\n",
    "\n",
    "#### Potential Client/Value of my Analysis:\n",
    "##### By analyzing the dataset, the Mental Health Association in New Jersey can uncover correlations and patterns between linguistic features, sentiment, and mental health indicators. These insights can inform interventions, policies, and support systems aimed at promoting mental well-being. Furthermore, the dataset offers opportunities for developing predictive models to identify or predict mental health outcomes based on textual data. This can be useful for early intervention and support.\n",
    "\n",
    "#### 5 Questions: \n",
    "##### Is there a correlation between occupation and growing stress?\n",
    "##### Is there a correlation between gender and treatment seeking?\n",
    "##### Is there a correlation between family history and personal mental health history?\n",
    "##### Is there a correlation between days spent indoors and social weakness?\n",
    "##### Is there a correlation between mood swings and work interest?\n"
   ]
  },
  {
   "cell_type": "markdown",
   "id": "c6faca0e-fd76-48d5-bbfd-65c60f203a1f",
   "metadata": {},
   "source": [
    "### Initial Exploratory Analysis:"
   ]
  },
  {
   "cell_type": "code",
   "execution_count": 29,
   "id": "e90a7a76-a9c3-4bf6-86cf-45adfab91e4e",
   "metadata": {},
   "outputs": [],
   "source": [
    "import pandas as pd\n",
    "import matplotlib.pyplot as plt\n",
    "import numpy as np\n",
    "import seaborn as sns"
   ]
  },
  {
   "cell_type": "code",
   "execution_count": 2,
   "id": "fe70826c-0296-4b56-aafc-3b2d760898e3",
   "metadata": {},
   "outputs": [],
   "source": [
    "mental_health = pd.read_csv('Mental Health Dataset.csv')"
   ]
  },
  {
   "cell_type": "code",
   "execution_count": 3,
   "id": "93b840e7-fded-4cc6-ad72-ebc49f1ae76a",
   "metadata": {},
   "outputs": [
    {
     "name": "stdout",
     "output_type": "stream",
     "text": [
      "Index(['Timestamp', 'Gender', 'Country', 'Occupation', 'self_employed',\n",
      "       'family_history', 'treatment', 'Days_Indoors', 'Growing_Stress',\n",
      "       'Changes_Habits', 'Mental_Health_History', 'Mood_Swings',\n",
      "       'Coping_Struggles', 'Work_Interest', 'Social_Weakness',\n",
      "       'mental_health_interview', 'care_options'],\n",
      "      dtype='object')\n"
     ]
    }
   ],
   "source": [
    "# List all the columns in the dataset\n",
    "columns_list = mental_health.columns\n",
    "\n",
    "# Print the list of column names\n",
    "print(columns_list)"
   ]
  },
  {
   "cell_type": "code",
   "execution_count": 4,
   "id": "fb744e39-a6af-4461-8479-c7a595711526",
   "metadata": {},
   "outputs": [
    {
     "name": "stdout",
     "output_type": "stream",
     "text": [
      "Timestamp                     0\n",
      "Gender                        0\n",
      "Country                       0\n",
      "Occupation                    0\n",
      "self_employed              5202\n",
      "family_history                0\n",
      "treatment                     0\n",
      "Days_Indoors                  0\n",
      "Growing_Stress                0\n",
      "Changes_Habits                0\n",
      "Mental_Health_History         0\n",
      "Mood_Swings                   0\n",
      "Coping_Struggles              0\n",
      "Work_Interest                 0\n",
      "Social_Weakness               0\n",
      "mental_health_interview       0\n",
      "care_options                  0\n",
      "dtype: int64\n"
     ]
    }
   ],
   "source": [
    "# Check for missing values in each column\n",
    "missing_values_count = mental_health.isnull().sum()\n",
    "\n",
    "# Print the count of missing values for each column\n",
    "print(missing_values_count)"
   ]
  },
  {
   "cell_type": "code",
   "execution_count": 5,
   "id": "a00dd1d9-7788-4789-8b28-48da94f6138e",
   "metadata": {},
   "outputs": [],
   "source": [
    "# Drop Rows with Missing self_employed Values\n",
    "mental_health = mental_health.dropna(subset=['self_employed'])"
   ]
  },
  {
   "cell_type": "code",
   "execution_count": 6,
   "id": "9fcb4778-604e-4731-96c9-9aed2edad760",
   "metadata": {},
   "outputs": [
    {
     "name": "stdout",
     "output_type": "stream",
     "text": [
      "Timestamp                  0\n",
      "Gender                     0\n",
      "Country                    0\n",
      "Occupation                 0\n",
      "self_employed              0\n",
      "family_history             0\n",
      "treatment                  0\n",
      "Days_Indoors               0\n",
      "Growing_Stress             0\n",
      "Changes_Habits             0\n",
      "Mental_Health_History      0\n",
      "Mood_Swings                0\n",
      "Coping_Struggles           0\n",
      "Work_Interest              0\n",
      "Social_Weakness            0\n",
      "mental_health_interview    0\n",
      "care_options               0\n",
      "dtype: int64\n"
     ]
    }
   ],
   "source": [
    "# Check for missing values in each column - should be 0\n",
    "missing_values_count = mental_health.isnull().sum()\n",
    "\n",
    "# Print the count of missing values for each column\n",
    "print(missing_values_count)"
   ]
  },
  {
   "cell_type": "code",
   "execution_count": 7,
   "id": "ca897f0c-0a93-4e17-82ec-a5468a90da5a",
   "metadata": {},
   "outputs": [
    {
     "data": {
      "text/html": [
       "<div>\n",
       "<style scoped>\n",
       "    .dataframe tbody tr th:only-of-type {\n",
       "        vertical-align: middle;\n",
       "    }\n",
       "\n",
       "    .dataframe tbody tr th {\n",
       "        vertical-align: top;\n",
       "    }\n",
       "\n",
       "    .dataframe thead th {\n",
       "        text-align: right;\n",
       "    }\n",
       "</style>\n",
       "<table border=\"1\" class=\"dataframe\">\n",
       "  <thead>\n",
       "    <tr style=\"text-align: right;\">\n",
       "      <th></th>\n",
       "      <th>Timestamp</th>\n",
       "      <th>Gender</th>\n",
       "      <th>Country</th>\n",
       "      <th>Occupation</th>\n",
       "      <th>self_employed</th>\n",
       "      <th>family_history</th>\n",
       "      <th>treatment</th>\n",
       "      <th>Days_Indoors</th>\n",
       "      <th>Growing_Stress</th>\n",
       "      <th>Changes_Habits</th>\n",
       "      <th>Mental_Health_History</th>\n",
       "      <th>Mood_Swings</th>\n",
       "      <th>Coping_Struggles</th>\n",
       "      <th>Work_Interest</th>\n",
       "      <th>Social_Weakness</th>\n",
       "      <th>mental_health_interview</th>\n",
       "      <th>care_options</th>\n",
       "    </tr>\n",
       "  </thead>\n",
       "  <tbody>\n",
       "    <tr>\n",
       "      <th>count</th>\n",
       "      <td>287162</td>\n",
       "      <td>287162</td>\n",
       "      <td>287162</td>\n",
       "      <td>287162</td>\n",
       "      <td>287162</td>\n",
       "      <td>287162</td>\n",
       "      <td>287162</td>\n",
       "      <td>287162</td>\n",
       "      <td>287162</td>\n",
       "      <td>287162</td>\n",
       "      <td>287162</td>\n",
       "      <td>287162</td>\n",
       "      <td>287162</td>\n",
       "      <td>287162</td>\n",
       "      <td>287162</td>\n",
       "      <td>287162</td>\n",
       "      <td>287162</td>\n",
       "    </tr>\n",
       "    <tr>\n",
       "      <th>unique</th>\n",
       "      <td>574</td>\n",
       "      <td>2</td>\n",
       "      <td>35</td>\n",
       "      <td>5</td>\n",
       "      <td>2</td>\n",
       "      <td>2</td>\n",
       "      <td>2</td>\n",
       "      <td>5</td>\n",
       "      <td>3</td>\n",
       "      <td>3</td>\n",
       "      <td>3</td>\n",
       "      <td>3</td>\n",
       "      <td>2</td>\n",
       "      <td>3</td>\n",
       "      <td>3</td>\n",
       "      <td>3</td>\n",
       "      <td>3</td>\n",
       "    </tr>\n",
       "    <tr>\n",
       "      <th>top</th>\n",
       "      <td>8/27/2014 11:43</td>\n",
       "      <td>Male</td>\n",
       "      <td>United States</td>\n",
       "      <td>Housewife</td>\n",
       "      <td>No</td>\n",
       "      <td>No</td>\n",
       "      <td>Yes</td>\n",
       "      <td>1-14 days</td>\n",
       "      <td>Maybe</td>\n",
       "      <td>Yes</td>\n",
       "      <td>No</td>\n",
       "      <td>Medium</td>\n",
       "      <td>No</td>\n",
       "      <td>No</td>\n",
       "      <td>Maybe</td>\n",
       "      <td>No</td>\n",
       "      <td>No</td>\n",
       "    </tr>\n",
       "    <tr>\n",
       "      <th>freq</th>\n",
       "      <td>2384</td>\n",
       "      <td>235950</td>\n",
       "      <td>168056</td>\n",
       "      <td>65173</td>\n",
       "      <td>257994</td>\n",
       "      <td>173668</td>\n",
       "      <td>144744</td>\n",
       "      <td>62429</td>\n",
       "      <td>98225</td>\n",
       "      <td>107579</td>\n",
       "      <td>102179</td>\n",
       "      <td>99272</td>\n",
       "      <td>151609</td>\n",
       "      <td>103964</td>\n",
       "      <td>101559</td>\n",
       "      <td>229304</td>\n",
       "      <td>116502</td>\n",
       "    </tr>\n",
       "  </tbody>\n",
       "</table>\n",
       "</div>"
      ],
      "text/plain": [
       "              Timestamp  Gender        Country Occupation self_employed  \\\n",
       "count            287162  287162         287162     287162        287162   \n",
       "unique              574       2             35          5             2   \n",
       "top     8/27/2014 11:43    Male  United States  Housewife            No   \n",
       "freq               2384  235950         168056      65173        257994   \n",
       "\n",
       "       family_history treatment Days_Indoors Growing_Stress Changes_Habits  \\\n",
       "count          287162    287162       287162         287162         287162   \n",
       "unique              2         2            5              3              3   \n",
       "top                No       Yes    1-14 days          Maybe            Yes   \n",
       "freq           173668    144744        62429          98225         107579   \n",
       "\n",
       "       Mental_Health_History Mood_Swings Coping_Struggles Work_Interest  \\\n",
       "count                 287162      287162           287162        287162   \n",
       "unique                     3           3                2             3   \n",
       "top                       No      Medium               No            No   \n",
       "freq                  102179       99272           151609        103964   \n",
       "\n",
       "       Social_Weakness mental_health_interview care_options  \n",
       "count           287162                  287162       287162  \n",
       "unique               3                       3            3  \n",
       "top              Maybe                      No           No  \n",
       "freq            101559                  229304       116502  "
      ]
     },
     "execution_count": 7,
     "metadata": {},
     "output_type": "execute_result"
    }
   ],
   "source": [
    "mental_health.describe()"
   ]
  },
  {
   "cell_type": "code",
   "execution_count": 8,
   "id": "03b0b525-b491-4fad-89c8-0607f2a28e44",
   "metadata": {},
   "outputs": [
    {
     "name": "stdout",
     "output_type": "stream",
     "text": [
      "<class 'pandas.core.frame.DataFrame'>\n",
      "Index: 287162 entries, 3 to 292363\n",
      "Data columns (total 17 columns):\n",
      " #   Column                   Non-Null Count   Dtype \n",
      "---  ------                   --------------   ----- \n",
      " 0   Timestamp                287162 non-null  object\n",
      " 1   Gender                   287162 non-null  object\n",
      " 2   Country                  287162 non-null  object\n",
      " 3   Occupation               287162 non-null  object\n",
      " 4   self_employed            287162 non-null  object\n",
      " 5   family_history           287162 non-null  object\n",
      " 6   treatment                287162 non-null  object\n",
      " 7   Days_Indoors             287162 non-null  object\n",
      " 8   Growing_Stress           287162 non-null  object\n",
      " 9   Changes_Habits           287162 non-null  object\n",
      " 10  Mental_Health_History    287162 non-null  object\n",
      " 11  Mood_Swings              287162 non-null  object\n",
      " 12  Coping_Struggles         287162 non-null  object\n",
      " 13  Work_Interest            287162 non-null  object\n",
      " 14  Social_Weakness          287162 non-null  object\n",
      " 15  mental_health_interview  287162 non-null  object\n",
      " 16  care_options             287162 non-null  object\n",
      "dtypes: object(17)\n",
      "memory usage: 39.4+ MB\n"
     ]
    }
   ],
   "source": [
    "mental_health.info()"
   ]
  },
  {
   "cell_type": "code",
   "execution_count": 9,
   "id": "7f2fd900-adea-45fd-9a1e-aa26f0d4bbb8",
   "metadata": {},
   "outputs": [
    {
     "data": {
      "text/html": [
       "<div>\n",
       "<style scoped>\n",
       "    .dataframe tbody tr th:only-of-type {\n",
       "        vertical-align: middle;\n",
       "    }\n",
       "\n",
       "    .dataframe tbody tr th {\n",
       "        vertical-align: top;\n",
       "    }\n",
       "\n",
       "    .dataframe thead th {\n",
       "        text-align: right;\n",
       "    }\n",
       "</style>\n",
       "<table border=\"1\" class=\"dataframe\">\n",
       "  <thead>\n",
       "    <tr style=\"text-align: right;\">\n",
       "      <th></th>\n",
       "      <th>Timestamp</th>\n",
       "      <th>Gender</th>\n",
       "      <th>Country</th>\n",
       "      <th>Occupation</th>\n",
       "      <th>self_employed</th>\n",
       "      <th>family_history</th>\n",
       "      <th>treatment</th>\n",
       "      <th>Days_Indoors</th>\n",
       "      <th>Growing_Stress</th>\n",
       "      <th>Changes_Habits</th>\n",
       "      <th>Mental_Health_History</th>\n",
       "      <th>Mood_Swings</th>\n",
       "      <th>Coping_Struggles</th>\n",
       "      <th>Work_Interest</th>\n",
       "      <th>Social_Weakness</th>\n",
       "      <th>mental_health_interview</th>\n",
       "      <th>care_options</th>\n",
       "    </tr>\n",
       "  </thead>\n",
       "  <tbody>\n",
       "    <tr>\n",
       "      <th>115140</th>\n",
       "      <td>8/29/2014 10:38</td>\n",
       "      <td>Male</td>\n",
       "      <td>United States</td>\n",
       "      <td>Housewife</td>\n",
       "      <td>No</td>\n",
       "      <td>Yes</td>\n",
       "      <td>Yes</td>\n",
       "      <td>15-30 days</td>\n",
       "      <td>No</td>\n",
       "      <td>Yes</td>\n",
       "      <td>Maybe</td>\n",
       "      <td>Medium</td>\n",
       "      <td>Yes</td>\n",
       "      <td>Yes</td>\n",
       "      <td>Maybe</td>\n",
       "      <td>Maybe</td>\n",
       "      <td>Not sure</td>\n",
       "    </tr>\n",
       "  </tbody>\n",
       "</table>\n",
       "</div>"
      ],
      "text/plain": [
       "              Timestamp Gender        Country Occupation self_employed  \\\n",
       "115140  8/29/2014 10:38   Male  United States  Housewife            No   \n",
       "\n",
       "       family_history treatment Days_Indoors Growing_Stress Changes_Habits  \\\n",
       "115140            Yes       Yes   15-30 days             No            Yes   \n",
       "\n",
       "       Mental_Health_History Mood_Swings Coping_Struggles Work_Interest  \\\n",
       "115140                 Maybe      Medium              Yes           Yes   \n",
       "\n",
       "       Social_Weakness mental_health_interview care_options  \n",
       "115140           Maybe                   Maybe     Not sure  "
      ]
     },
     "execution_count": 9,
     "metadata": {},
     "output_type": "execute_result"
    }
   ],
   "source": [
    "mental_health.sample()"
   ]
  },
  {
   "cell_type": "markdown",
   "id": "bf139037-cf88-4a5e-8dcc-caf8014d6b22",
   "metadata": {},
   "source": [
    "### Data Cleaning"
   ]
  },
  {
   "cell_type": "code",
   "execution_count": 11,
   "id": "856a0b00-7337-4f67-aeb2-ba336b1aad80",
   "metadata": {},
   "outputs": [
    {
     "data": {
      "text/html": [
       "<div>\n",
       "<style scoped>\n",
       "    .dataframe tbody tr th:only-of-type {\n",
       "        vertical-align: middle;\n",
       "    }\n",
       "\n",
       "    .dataframe tbody tr th {\n",
       "        vertical-align: top;\n",
       "    }\n",
       "\n",
       "    .dataframe thead th {\n",
       "        text-align: right;\n",
       "    }\n",
       "</style>\n",
       "<table border=\"1\" class=\"dataframe\">\n",
       "  <thead>\n",
       "    <tr style=\"text-align: right;\">\n",
       "      <th></th>\n",
       "      <th>timestamp</th>\n",
       "      <th>gender</th>\n",
       "      <th>country</th>\n",
       "      <th>occupation</th>\n",
       "      <th>self_employed</th>\n",
       "      <th>family_history</th>\n",
       "      <th>treatment</th>\n",
       "      <th>days_indoors</th>\n",
       "      <th>growing_stress</th>\n",
       "      <th>changes_habits</th>\n",
       "      <th>mental_health_history</th>\n",
       "      <th>mood_swings</th>\n",
       "      <th>coping_struggles</th>\n",
       "      <th>work_interest</th>\n",
       "      <th>social_weakness</th>\n",
       "      <th>mental_health_interview</th>\n",
       "      <th>care_options</th>\n",
       "    </tr>\n",
       "  </thead>\n",
       "  <tbody>\n",
       "    <tr>\n",
       "      <th>175101</th>\n",
       "      <td>8/27/2014 15:25</td>\n",
       "      <td>Male</td>\n",
       "      <td>Canada</td>\n",
       "      <td>Housewife</td>\n",
       "      <td>No</td>\n",
       "      <td>No</td>\n",
       "      <td>Yes</td>\n",
       "      <td>Go out Every day</td>\n",
       "      <td>No</td>\n",
       "      <td>Yes</td>\n",
       "      <td>Maybe</td>\n",
       "      <td>Medium</td>\n",
       "      <td>Yes</td>\n",
       "      <td>No</td>\n",
       "      <td>Maybe</td>\n",
       "      <td>No</td>\n",
       "      <td>Not sure</td>\n",
       "    </tr>\n",
       "  </tbody>\n",
       "</table>\n",
       "</div>"
      ],
      "text/plain": [
       "              timestamp gender country occupation self_employed  \\\n",
       "175101  8/27/2014 15:25   Male  Canada  Housewife            No   \n",
       "\n",
       "       family_history treatment      days_indoors growing_stress  \\\n",
       "175101             No       Yes  Go out Every day             No   \n",
       "\n",
       "       changes_habits mental_health_history mood_swings coping_struggles  \\\n",
       "175101            Yes                 Maybe      Medium              Yes   \n",
       "\n",
       "       work_interest social_weakness mental_health_interview care_options  \n",
       "175101            No           Maybe                      No     Not sure  "
      ]
     },
     "execution_count": 11,
     "metadata": {},
     "output_type": "execute_result"
    }
   ],
   "source": [
    "# Rename the columns to a lower-case word (easier to work with)\n",
    "mental_health.rename(columns=str.lower, inplace=True)\n",
    "mental_health.sample()"
   ]
  },
  {
   "cell_type": "code",
   "execution_count": 14,
   "id": "fedfcfe7-8750-4f84-9e54-b2b01344d21e",
   "metadata": {},
   "outputs": [
    {
     "data": {
      "text/html": [
       "<div>\n",
       "<style scoped>\n",
       "    .dataframe tbody tr th:only-of-type {\n",
       "        vertical-align: middle;\n",
       "    }\n",
       "\n",
       "    .dataframe tbody tr th {\n",
       "        vertical-align: top;\n",
       "    }\n",
       "\n",
       "    .dataframe thead th {\n",
       "        text-align: right;\n",
       "    }\n",
       "</style>\n",
       "<table border=\"1\" class=\"dataframe\">\n",
       "  <thead>\n",
       "    <tr style=\"text-align: right;\">\n",
       "      <th></th>\n",
       "      <th>timestamp</th>\n",
       "      <th>gender</th>\n",
       "      <th>country</th>\n",
       "      <th>occupation</th>\n",
       "      <th>family_history</th>\n",
       "      <th>treatment</th>\n",
       "      <th>days_indoors</th>\n",
       "      <th>growing_stress</th>\n",
       "      <th>mental_health_history</th>\n",
       "      <th>mood_swings</th>\n",
       "      <th>work_interest</th>\n",
       "      <th>social_weakness</th>\n",
       "    </tr>\n",
       "  </thead>\n",
       "  <tbody>\n",
       "    <tr>\n",
       "      <th>52254</th>\n",
       "      <td>8/29/2014 14:51</td>\n",
       "      <td>Female</td>\n",
       "      <td>United States</td>\n",
       "      <td>Housewife</td>\n",
       "      <td>Yes</td>\n",
       "      <td>Yes</td>\n",
       "      <td>Go out Every day</td>\n",
       "      <td>Maybe</td>\n",
       "      <td>No</td>\n",
       "      <td>Medium</td>\n",
       "      <td>No</td>\n",
       "      <td>No</td>\n",
       "    </tr>\n",
       "  </tbody>\n",
       "</table>\n",
       "</div>"
      ],
      "text/plain": [
       "             timestamp  gender        country occupation family_history  \\\n",
       "52254  8/29/2014 14:51  Female  United States  Housewife            Yes   \n",
       "\n",
       "      treatment      days_indoors growing_stress mental_health_history  \\\n",
       "52254       Yes  Go out Every day          Maybe                    No   \n",
       "\n",
       "      mood_swings work_interest social_weakness  \n",
       "52254      Medium            No              No  "
      ]
     },
     "execution_count": 14,
     "metadata": {},
     "output_type": "execute_result"
    }
   ],
   "source": [
    "# Remove columns that are not relevant to the 5 questions I will be answering. \n",
    "mh2 = mental_health.drop(columns = ['self_employed', 'changes_habits', 'coping_struggles', 'mental_health_interview', 'care_options'])\n",
    "mh2.sample()"
   ]
  },
  {
   "cell_type": "code",
   "execution_count": 15,
   "id": "214da6c9-71e9-416a-b946-d019a21f1273",
   "metadata": {},
   "outputs": [
    {
     "name": "stdout",
     "output_type": "stream",
     "text": [
      "timestamp                0\n",
      "gender                   0\n",
      "country                  0\n",
      "occupation               0\n",
      "family_history           0\n",
      "treatment                0\n",
      "days_indoors             0\n",
      "growing_stress           0\n",
      "mental_health_history    0\n",
      "mood_swings              0\n",
      "work_interest            0\n",
      "social_weakness          0\n",
      "dtype: int64\n"
     ]
    }
   ],
   "source": [
    "# Check for missing values in each column\n",
    "missing_values_count = mh2.isnull().sum()\n",
    "\n",
    "# Print the count of missing values for each column\n",
    "print(missing_values_count)"
   ]
  },
  {
   "cell_type": "code",
   "execution_count": 16,
   "id": "7726e8f6-fb91-40f1-b333-ffc3ef51032c",
   "metadata": {},
   "outputs": [],
   "source": [
    "# The to_csv function will allow me to save the cleaned csv file locally. \n",
    "mh2.to_csv(\"/Users/ytpatel3/Downloads/mental_health_cleaned.csv\")"
   ]
  },
  {
   "cell_type": "markdown",
   "id": "cf93a4e1-f523-4d13-906a-cc1eefaf149c",
   "metadata": {},
   "source": [
    "### Data Analysis and Visualization"
   ]
  },
  {
   "cell_type": "code",
   "execution_count": 45,
   "id": "0f1744d9-6673-4b9b-8774-d582cb73daec",
   "metadata": {},
   "outputs": [
    {
     "data": {
      "text/html": [
       "<div>\n",
       "<style scoped>\n",
       "    .dataframe tbody tr th:only-of-type {\n",
       "        vertical-align: middle;\n",
       "    }\n",
       "\n",
       "    .dataframe tbody tr th {\n",
       "        vertical-align: top;\n",
       "    }\n",
       "\n",
       "    .dataframe thead th {\n",
       "        text-align: right;\n",
       "    }\n",
       "</style>\n",
       "<table border=\"1\" class=\"dataframe\">\n",
       "  <thead>\n",
       "    <tr style=\"text-align: right;\">\n",
       "      <th></th>\n",
       "      <th>Unnamed: 0</th>\n",
       "      <th>timestamp</th>\n",
       "      <th>gender</th>\n",
       "      <th>country</th>\n",
       "      <th>occupation</th>\n",
       "      <th>family_history</th>\n",
       "      <th>treatment</th>\n",
       "      <th>days_indoors</th>\n",
       "      <th>growing_stress</th>\n",
       "      <th>mental_health_history</th>\n",
       "      <th>mood_swings</th>\n",
       "      <th>work_interest</th>\n",
       "      <th>social_weakness</th>\n",
       "    </tr>\n",
       "  </thead>\n",
       "  <tbody>\n",
       "    <tr>\n",
       "      <th>200104</th>\n",
       "      <td>203876</td>\n",
       "      <td>8/27/2014 12:34</td>\n",
       "      <td>Male</td>\n",
       "      <td>United Kingdom</td>\n",
       "      <td>Corporate</td>\n",
       "      <td>Yes</td>\n",
       "      <td>No</td>\n",
       "      <td>Go out Every day</td>\n",
       "      <td>Maybe</td>\n",
       "      <td>No</td>\n",
       "      <td>Medium</td>\n",
       "      <td>Yes</td>\n",
       "      <td>No</td>\n",
       "    </tr>\n",
       "  </tbody>\n",
       "</table>\n",
       "</div>"
      ],
      "text/plain": [
       "        Unnamed: 0        timestamp gender         country occupation  \\\n",
       "200104      203876  8/27/2014 12:34   Male  United Kingdom  Corporate   \n",
       "\n",
       "       family_history treatment      days_indoors growing_stress  \\\n",
       "200104            Yes        No  Go out Every day          Maybe   \n",
       "\n",
       "       mental_health_history mood_swings work_interest social_weakness  \n",
       "200104                    No      Medium           Yes              No  "
      ]
     },
     "execution_count": 45,
     "metadata": {},
     "output_type": "execute_result"
    }
   ],
   "source": [
    "# import cleaned csv file from Part 2\n",
    "df = pd.read_csv('mental_health_cleaned.csv')\n",
    "df.sample()"
   ]
  },
  {
   "cell_type": "markdown",
   "id": "002edca9-2671-4523-a2a0-69aeb04ea3ba",
   "metadata": {},
   "source": [
    "### Question 1\n",
    "### Is there a correlation between gender and treatment seeking?"
   ]
  },
  {
   "cell_type": "code",
   "execution_count": 19,
   "id": "4a1fc9ca-286f-4658-8bca-fa8121116e26",
   "metadata": {},
   "outputs": [
    {
     "name": "stdout",
     "output_type": "stream",
     "text": [
      "Gender Distribution:\n",
      " gender\n",
      "Male      235950\n",
      "Female     51212\n",
      "Name: count, dtype: int64\n",
      "\n",
      "Treatment by Gender:\n",
      " treatment      No     Yes\n",
      "gender                   \n",
      "Female      16058   35154\n",
      "Male       126360  109590\n",
      "\n",
      "Proportions of Treatment by Gender:\n",
      " treatment        No       Yes\n",
      "gender                       \n",
      "Female     0.313559  0.686441\n",
      "Male       0.535537  0.464463\n"
     ]
    }
   ],
   "source": [
    "# figure out if male or females are more likely to ask for help\n",
    "\n",
    "gender_distribution = df['gender'].value_counts() # counts the occurrences of each unique value in the 'gender' column (men and women0\n",
    "print(\"Gender Distribution:\\n\", gender_distribution)\n",
    "\n",
    "treatment_by_gender = pd.crosstab(df['gender'], df['treatment']) # cross tabulation to compute the frequency of occurrences of each combination of gender and treatment seeking\n",
    "print(\"\\nTreatment by Gender:\\n\", treatment_by_gender)\n",
    "\n",
    "# normalize the counts in treatment_by_gender table by dividing each count by the total count for its respective gender\n",
    "treatment_by_gender_proportions = treatment_by_gender.div(treatment_by_gender.sum(1), axis=0) # gives proportions instead of absolute counts, allowing for easier comparison of treatment distributions across genders\n",
    "print(\"\\nProportions of Treatment by Gender:\\n\", treatment_by_gender_proportions)\n"
   ]
  },
  {
   "cell_type": "code",
   "execution_count": 22,
   "id": "93147d01-eabb-4bde-86b0-c1cbb9d9106e",
   "metadata": {},
   "outputs": [
    {
     "data": {
      "image/png": "[encoded data removed]",
      "text/plain": [
       "<Figure size 640x480 with 1 Axes>"
      ]
     },
     "metadata": {},
     "output_type": "display_data"
    }
   ],
   "source": [
    "# visualize Question 1's findings\n",
    "\n",
    "# plot the proportions of individuals seeking treatment by gender\n",
    "colors = ['red', 'forestgreen']\n",
    "treatment_by_gender_proportions.plot(kind='bar', stacked=True, color=colors)\n",
    "plt.title('Proportion of Individuals Seeking Treatment by Gender')\n",
    "plt.ylabel('Proportion')\n",
    "plt.xlabel('Gender')\n",
    "plt.xticks(rotation=45)\n",
    "plt.legend(title='Treatment', labels=['No', 'Yes'])\n",
    "plt.show()\n"
   ]
  },
  {
   "cell_type": "markdown",
   "id": "ce45aa90-d895-4902-9ddc-1ec27dd59166",
   "metadata": {},
   "source": [
    "### From the data above, we can answer question 1 by saying, proportionately, men seek treatment less than women. About 70% of women in the dataset seek treatment, whereas only about 45% of men seek treatment. Therefore, interventions, policies, and support systems should prioritize marketing towards males. "
   ]
  },
  {
   "cell_type": "markdown",
   "id": "549977d0-b110-49d6-9afa-7b431cb9127d",
   "metadata": {},
   "source": [
    "### Question 2\n",
    "### Is there a correlation between days spent indoors and social weakness?"
   ]
  },
  {
   "cell_type": "code",
   "execution_count": 28,
   "id": "adb92fa3-fdb8-4cbb-9824-58e73316f630",
   "metadata": {},
   "outputs": [
    {
     "data": {
      "image/png": "[encoded data removed]",
      "text/plain": [
       "<Figure size 1000x600 with 1 Axes>"
      ]
     },
     "metadata": {},
     "output_type": "display_data"
    }
   ],
   "source": [
    "# cross tabulation to compute the frequency of occurrences of each combination of days_indoor and social_weakness\n",
    "cross_tab_stress = pd.crosstab(df['days_indoors'], df['social_weakness'])\n",
    "\n",
    "# order columns in increasing positive values)\n",
    "cross_tab_stress = cross_tab_stress[['No', 'Maybe', 'Yes']]\n",
    "\n",
    "# visualize the relationship between days_indoors and social_weakness\n",
    "colors2 = ['red', 'orange', 'forestgreen']\n",
    "cross_tab_stress.plot(kind='bar', stacked=True, figsize=(10, 6), color = colors2)\n",
    "plt.title('Reported Social Weakness vs. Days Indoors')\n",
    "plt.xlabel('Days Indoors')\n",
    "plt.ylabel('Count')\n",
    "plt.xticks(rotation=45)\n",
    "plt.legend(title='Reported Social Weakness')\n",
    "plt.show()"
   ]
  },
  {
   "cell_type": "markdown",
   "id": "cef892ab-cd87-4091-840f-98462359b068",
   "metadata": {},
   "source": [
    "### From the data above, we can answer question 2 by saying that those who go out every day report the lowest amount of social weakness. However, the quantitative data of all 4 columns are quite similar. Therefore, the data is somewhat inconclusive and we cannot make any generalizations/predictions."
   ]
  },
  {
   "cell_type": "markdown",
   "id": "152bf737-8d00-48df-882d-5a85e3f310c4",
   "metadata": {},
   "source": [
    "### Question 3\n",
    "### Is there a correlation between occupation and growing stress?"
   ]
  },
  {
   "cell_type": "code",
   "execution_count": 51,
   "id": "750a7bae-f17b-4fd3-b701-c02042798715",
   "metadata": {},
   "outputs": [
    {
     "data": {
      "image/png": "[encoded data removed]",
      "text/plain": [
       "<Figure size 1000x700 with 1 Axes>"
      ]
     },
     "metadata": {},
     "output_type": "display_data"
    }
   ],
   "source": [
    "# List all the occupations in the dataset\n",
    "np.unique(df['occupation'])\n",
    "\n",
    "# Check all the unique values for growing stress\n",
    "np.unique(df['growing_stress'])\n",
    "\n",
    "# Visualise the proportion of growing stress for every occupation\n",
    "plt.figure(figsize=(10, 7))\n",
    "\n",
    "# learned about sns.countplot() from https://www.geeksforgeeks.org/countplot-using-seaborn-in-python/\n",
    "# seaborn palettes found at https://seaborn.pydata.org/tutorial/color_palettes.html (viridis reminded me of CCM colors)\n",
    "sns.countplot(x='growing_stress', data=df, palette = 'viridis', hue='occupation')\n",
    "\n",
    "plt.title('Distribution of Growing Stress by Occupation')\n",
    "plt.xlabel(' ')\n",
    "plt.ylabel('Frequency')\n",
    "plt.show()"
   ]
  },
  {
   "cell_type": "markdown",
   "id": "8710de1b-07ce-404b-9870-63cc2fcd0b2b",
   "metadata": {},
   "source": [
    "### The graph shows us that the highest growing stress is found amongst the corporate individuals, students, and housewives. However, there's also a high number of corporate individuals and housewives that did not experience growing stress. Thus, one could assume that students have the highest rates of growing stress. However, this data is not concrete enough to support assumptions that occupations are directly responsible for growing stress due to the high number of maybes."
   ]
  },
  {
   "cell_type": "markdown",
   "id": "1a18392c-4955-4717-86fb-68307992c9eb",
   "metadata": {},
   "source": [
    "### Question 4\n",
    "### Is there a correlation between family history and personal mental health history?"
   ]
  },
  {
   "cell_type": "code",
   "execution_count": 48,
   "id": "47fc409a-1259-4c14-832f-c664449902f1",
   "metadata": {},
   "outputs": [
    {
     "data": {
      "text/html": [
       "<div>\n",
       "<style scoped>\n",
       "    .dataframe tbody tr th:only-of-type {\n",
       "        vertical-align: middle;\n",
       "    }\n",
       "\n",
       "    .dataframe tbody tr th {\n",
       "        vertical-align: top;\n",
       "    }\n",
       "\n",
       "    .dataframe thead th {\n",
       "        text-align: right;\n",
       "    }\n",
       "</style>\n",
       "<table border=\"1\" class=\"dataframe\">\n",
       "  <thead>\n",
       "    <tr style=\"text-align: right;\">\n",
       "      <th></th>\n",
       "      <th>Unnamed: 0</th>\n",
       "      <th>timestamp</th>\n",
       "      <th>gender</th>\n",
       "      <th>country</th>\n",
       "      <th>occupation</th>\n",
       "      <th>family_history</th>\n",
       "      <th>treatment</th>\n",
       "      <th>days_indoors</th>\n",
       "      <th>growing_stress</th>\n",
       "      <th>mental_health_history</th>\n",
       "      <th>mood_swings</th>\n",
       "      <th>work_interest</th>\n",
       "      <th>social_weakness</th>\n",
       "    </tr>\n",
       "  </thead>\n",
       "  <tbody>\n",
       "    <tr>\n",
       "      <th>0</th>\n",
       "      <td>3</td>\n",
       "      <td>8/27/2014 11:37</td>\n",
       "      <td>Female</td>\n",
       "      <td>United States</td>\n",
       "      <td>Corporate</td>\n",
       "      <td>Yes</td>\n",
       "      <td>Yes</td>\n",
       "      <td>1-14 days</td>\n",
       "      <td>Yes</td>\n",
       "      <td>Yes</td>\n",
       "      <td>Medium</td>\n",
       "      <td>No</td>\n",
       "      <td>Yes</td>\n",
       "    </tr>\n",
       "    <tr>\n",
       "      <th>1</th>\n",
       "      <td>4</td>\n",
       "      <td>8/27/2014 11:43</td>\n",
       "      <td>Female</td>\n",
       "      <td>United States</td>\n",
       "      <td>Corporate</td>\n",
       "      <td>Yes</td>\n",
       "      <td>Yes</td>\n",
       "      <td>1-14 days</td>\n",
       "      <td>Yes</td>\n",
       "      <td>Yes</td>\n",
       "      <td>Medium</td>\n",
       "      <td>No</td>\n",
       "      <td>Yes</td>\n",
       "    </tr>\n",
       "    <tr>\n",
       "      <th>2</th>\n",
       "      <td>5</td>\n",
       "      <td>8/27/2014 11:49</td>\n",
       "      <td>Female</td>\n",
       "      <td>Poland</td>\n",
       "      <td>Corporate</td>\n",
       "      <td>No</td>\n",
       "      <td>Yes</td>\n",
       "      <td>1-14 days</td>\n",
       "      <td>Yes</td>\n",
       "      <td>Yes</td>\n",
       "      <td>Medium</td>\n",
       "      <td>No</td>\n",
       "      <td>Yes</td>\n",
       "    </tr>\n",
       "    <tr>\n",
       "      <th>3</th>\n",
       "      <td>6</td>\n",
       "      <td>8/27/2014 11:51</td>\n",
       "      <td>Female</td>\n",
       "      <td>Australia</td>\n",
       "      <td>Corporate</td>\n",
       "      <td>Yes</td>\n",
       "      <td>Yes</td>\n",
       "      <td>1-14 days</td>\n",
       "      <td>Yes</td>\n",
       "      <td>Yes</td>\n",
       "      <td>Medium</td>\n",
       "      <td>No</td>\n",
       "      <td>Yes</td>\n",
       "    </tr>\n",
       "    <tr>\n",
       "      <th>4</th>\n",
       "      <td>7</td>\n",
       "      <td>8/27/2014 11:52</td>\n",
       "      <td>Female</td>\n",
       "      <td>United States</td>\n",
       "      <td>Corporate</td>\n",
       "      <td>No</td>\n",
       "      <td>No</td>\n",
       "      <td>1-14 days</td>\n",
       "      <td>Yes</td>\n",
       "      <td>Yes</td>\n",
       "      <td>Medium</td>\n",
       "      <td>No</td>\n",
       "      <td>Yes</td>\n",
       "    </tr>\n",
       "  </tbody>\n",
       "</table>\n",
       "</div>"
      ],
      "text/plain": [
       "   Unnamed: 0        timestamp  gender        country occupation  \\\n",
       "0           3  8/27/2014 11:37  Female  United States  Corporate   \n",
       "1           4  8/27/2014 11:43  Female  United States  Corporate   \n",
       "2           5  8/27/2014 11:49  Female         Poland  Corporate   \n",
       "3           6  8/27/2014 11:51  Female      Australia  Corporate   \n",
       "4           7  8/27/2014 11:52  Female  United States  Corporate   \n",
       "\n",
       "  family_history treatment days_indoors growing_stress mental_health_history  \\\n",
       "0            Yes       Yes    1-14 days            Yes                   Yes   \n",
       "1            Yes       Yes    1-14 days            Yes                   Yes   \n",
       "2             No       Yes    1-14 days            Yes                   Yes   \n",
       "3            Yes       Yes    1-14 days            Yes                   Yes   \n",
       "4             No        No    1-14 days            Yes                   Yes   \n",
       "\n",
       "  mood_swings work_interest social_weakness  \n",
       "0      Medium            No             Yes  \n",
       "1      Medium            No             Yes  \n",
       "2      Medium            No             Yes  \n",
       "3      Medium            No             Yes  \n",
       "4      Medium            No             Yes  "
      ]
     },
     "execution_count": 48,
     "metadata": {},
     "output_type": "execute_result"
    }
   ],
   "source": [
    "df.head()"
   ]
  },
  {
   "cell_type": "code",
   "execution_count": 58,
   "id": "0c3548ac-4f0d-42f1-ae90-95d4d902ef15",
   "metadata": {},
   "outputs": [
    {
     "data": {
      "image/png": "[encoded data removed]",
      "text/plain": [
       "<Figure size 1000x700 with 1 Axes>"
      ]
     },
     "metadata": {},
     "output_type": "display_data"
    }
   ],
   "source": [
    "# Check all the unique values for family history and mental health history\n",
    "np.unique(df['family_history'])\n",
    "np.unique(df['mental_health_history'])\n",
    "\n",
    "# Correlation between family history and mh history\n",
    "plt.figure(figsize=(10, 7))\n",
    "sns.countplot(x='mental_health_history', data=df, hue='family_history',  palette = ['forestgreen', 'red'])\n",
    "plt.title('Relationship Between Family History and Mental Health History')\n",
    "plt.xlabel('Mental Health History')\n",
    "plt.ylabel('Frequency')\n",
    "plt.show()"
   ]
  },
  {
   "cell_type": "markdown",
   "id": "97462704-b9c5-488e-8306-f68a9dfbbee1",
   "metadata": {},
   "source": [
    "### Amongst the data of individuals with mental health history, there is a higher occurence amongst those without family history. Surprisingly, this trend is also observed in two other groups of mental health history. Therefore, family history is not a good indicator of having mental health struggles."
   ]
  },
  {
   "cell_type": "markdown",
   "id": "825439ed-d983-4449-b4c5-561091752688",
   "metadata": {},
   "source": [
    "### Question 5\n",
    "### Is there a correlation between mood swings and work interest?"
   ]
  },
  {
   "cell_type": "code",
   "execution_count": 64,
   "id": "945f6226-b9ca-49b6-aafc-996ddd5f365c",
   "metadata": {},
   "outputs": [
    {
     "data": {
      "image/png": "[encoded data removed]",
      "text/plain": [
       "<Figure size 800x600 with 2 Axes>"
      ]
     },
     "metadata": {},
     "output_type": "display_data"
    }
   ],
   "source": [
    "# create a heatmap to visually inspect any correlation or association between the 'mood_swings' and 'work_interest' variables. \n",
    "# if there's a correlation, you'll see higher values in certain cells of the heatmap.\n",
    "\n",
    "# Creating a cross-tabulation\n",
    "cross_tab = pd.crosstab(df['mood_swings'], df['work_interest'])\n",
    "\n",
    "# Plotting the heatmap\n",
    "plt.figure(figsize=(8, 6))\n",
    "\n",
    "# the colormap is set to \"YlGnBu\", which stands for Yellow-Green-Blue. \n",
    "# colormap transitions from yellow for low values, through green for intermediate values, to blue for high values.\n",
    "sns.heatmap(cross_tab, annot=True, cmap=\"YlGnBu\", fmt='d')\n",
    "\n",
    "plt.title('Correlation between Mood Swings and Work Interest')\n",
    "plt.xlabel('Work Interest')\n",
    "plt.ylabel('Mood Swings')\n",
    "plt.show()"
   ]
  },
  {
   "cell_type": "markdown",
   "id": "61c79f7b-dcfb-4104-859a-c6b16425d612",
   "metadata": {},
   "source": [
    "### The heatmap shows us that there is a strong correlation between a medium level of mood swings and no work interest. There is also no correlation between mood swings and 'yes' for work interest. This heatmap proves that those who suffer from mood swings are less productive/willing to work. Mental health resources and methods to deal with mood swings should be provided by corporate workplaces to ensure worker productivity. "
   ]
  },
  {
   "cell_type": "code",
   "execution_count": null,
   "id": "c2e31352-a564-4954-93ac-7839cc98cc50",
   "metadata": {},
   "outputs": [],
   "source": []
  },
  {
   "cell_type": "code",
   "execution_count": null,
   "id": "b2e0b663-8a0d-4636-94db-91c0f57eb93f",
   "metadata": {},
   "outputs": [],
   "source": []
  },
  {
   "cell_type": "code",
   "execution_count": null,
   "id": "7f6e6b59-ff27-4229-9e0d-f97dc752d493",
   "metadata": {},
   "outputs": [],
   "source": []
  }
 ],
 "metadata": {
  "kernelspec": {
   "display_name": "Python 3 (ipykernel)",
   "language": "python",
   "name": "python3"
  },
  "language_info": {
   "codemirror_mode": {
    "name": "ipython",
    "version": 3
   },
   "file_extension": ".py",
   "mimetype": "text/x-python",
   "name": "python",
   "nbconvert_exporter": "python",
   "pygments_lexer": "ipython3",
   "version": "3.11.7"
  }
 },
 "nbformat": 4,
 "nbformat_minor": 5
}
